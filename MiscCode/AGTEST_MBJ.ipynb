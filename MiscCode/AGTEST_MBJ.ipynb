{
 "cells": [
  {
   "cell_type": "code",
   "execution_count": 1,
   "metadata": {},
   "outputs": [],
   "source": [
    "import numpy as np\n",
    "import pandas as pd\n",
    "import matplotlib.pyplot as plt\n",
    "import matplotlib as mpl\n",
    "mpl.rcParams['font.size'] = 18      # Set the general plotting font size\n",
    "plt.rc(\"font\", family=\"serif\")\n",
    "#Skaleret positive som fkt af tiden for AG og PCR"
   ]
  },
  {
   "cell_type": "code",
   "execution_count": 2,
   "metadata": {},
   "outputs": [
    {
     "name": "stdout",
     "output_type": "stream",
     "text": [
      "            AG_testede  AG_pos  AGpos_PCRkonf Andel_AGpos_PCRkonf_pct  \\\n",
      "Dato                                                                    \n",
      "2021-02-01        4774       8              4                      50   \n",
      "2021-02-02        4598       8              5                    62,5   \n",
      "2021-02-03        4820       9              5        55,5555555555556   \n",
      "2021-02-04        4462       4              2                      50   \n",
      "2021-02-05        4325       7              5        71,4285714285714   \n",
      "...                ...     ...            ...                     ...   \n",
      "2021-04-08      228408     263            223        84,7908745247148   \n",
      "2021-04-09      185567     205            180        87,8048780487805   \n",
      "2021-04-10       90207     155            133        85,8064516129032   \n",
      "2021-04-11      158139     211            191         90,521327014218   \n",
      "2021-04-12      268586     302            271        89,7350993377484   \n",
      "\n",
      "            AGpos_minusPCRkonf Andel_AGminusPCRkonf_pct  AGpos_PCRpos  \\\n",
      "Dato                                                                    \n",
      "2021-02-01                   4                       50             2   \n",
      "2021-02-02                   3                     37,5             5   \n",
      "2021-02-03                   4         44,4444444444444             5   \n",
      "2021-02-04                   2                       50             2   \n",
      "2021-02-05                   2         28,5714285714286             4   \n",
      "...                        ...                      ...           ...   \n",
      "2021-04-08                  40         15,2091254752852           145   \n",
      "2021-04-09                  25         12,1951219512195           113   \n",
      "2021-04-10                  22         14,1935483870968            87   \n",
      "2021-04-11                  20         9,47867298578199           112   \n",
      "2021-04-12                  31         10,2649006622517           150   \n",
      "\n",
      "            AGposPCRneg  AGnegPCRpos  AGnegPCRneg  \n",
      "Dato                                               \n",
      "2021-02-01            2            2          293  \n",
      "2021-02-02            0            5          308  \n",
      "2021-02-03            0            6          343  \n",
      "2021-02-04            0            5          322  \n",
      "2021-02-05            1            6          280  \n",
      "...                 ...          ...          ...  \n",
      "2021-04-08           73          158        11968  \n",
      "2021-04-09           65           82         9736  \n",
      "2021-04-10           45           94         5264  \n",
      "2021-04-11           77          104         8775  \n",
      "2021-04-12          118          163        13164  \n",
      "\n",
      "[71 rows x 10 columns]\n",
      "  Data used:  2021-02-20 - 2021-04-10\n"
     ]
    }
   ],
   "source": [
    "fit_to_latest = True\n",
    "\n",
    "foldername = \"../Data-Epidemiologiske-Rapport-16042021-10uu/\"\n",
    "filenameAG = \"Antigentests_pr_dag.csv\"\n",
    "filenamePCR1 = \"Municipality_cases_time_series.csv\"\n",
    "filenamePCR2 = \"Municipality_tested_persons_time_series.csv\" \n",
    "\n",
    "AG_test = pd.read_csv(foldername+filenameAG, sep=';', thousands='.', index_col=0)\n",
    "data_posi = pd.read_csv(foldername+filenamePCR1, sep=';', thousands='.', index_col=0)\n",
    "data_test = pd.read_csv(foldername+filenamePCR2, sep=';', thousands='.', index_col=0)\n",
    "\n",
    "print(AG_test)\n",
    "\n",
    "# Print how much data is included:\n",
    "date_start = \"2021-02-20\"            # This is thus day 0\n",
    "if fit_to_latest :\n",
    "    date_end = AG_test.index[-3]   # Omitting the very latest data point (with ~0 statistics)\n",
    "else :\n",
    "    date_end = \"2021-04-14\"          # Value in latest report files\n",
    "print(\"  Data used: \", date_start, \"-\", date_end)\n",
    "\n",
    "\n",
    "AG_ntest = AG_test[\"AG_testede\"]\n",
    "AG_posi = AG_test[\"AG_pos\"]\n",
    "PAG_all = AG_posi.loc[date_start:date_end]\n",
    "ePAG_all = np.sqrt(PAG_all)\n",
    "TAG_all = AG_ntest.loc[date_start:date_end]\n",
    "eTAG_all = np.sqrt(TAG_all)\n",
    "\n",
    "P_all = data_posi.loc[date_start:date_end].sum(axis=1)\n",
    "eP_all = np.sqrt(P_all)\n",
    "T_all = data_test.loc[date_start:date_end].sum(axis=1)\n",
    "eT_all = np.sqrt(T_all)"
   ]
  },
  {
   "cell_type": "code",
   "execution_count": 3,
   "metadata": {},
   "outputs": [],
   "source": [
    "# Average time between generations (in days):\n",
    "tG = 4.7\n",
    "# Number of positive tests and uncertainty, assuming fixed number of daily tests and power law correction:\n",
    "Power = -0.50\n",
    "# To account for larger uncertainties in positives in data than simply the statistical:\n",
    "SystError = 0.0                      # Should be included at some point\n",
    "SystErrorScale = 1.0                 # 1.0 (i.e. doubling of error) works OK!"
   ]
  },
  {
   "cell_type": "code",
   "execution_count": 4,
   "metadata": {},
   "outputs": [
    {
     "name": "stdout",
     "output_type": "stream",
     "text": [
      "Average number of AG tests:  84699.74\n",
      "Average number of PCR tests:  150741.74\n"
     ]
    }
   ],
   "source": [
    "# These are also the days where corrections are applied:\n",
    "Plot_StartDay = 0         # 1st of January 2021\n",
    "Plot_EndDay   = len(PAG_all)\n",
    "\n",
    "# Calculate the Scaled Positives (SP):\n",
    "nAveDailyAGTests_all = TAG_all.mean()\n",
    "print(\"Average number of AG tests: \", nAveDailyAGTests_all)\n",
    "fPosAG_all = PAG_all / TAG_all\n",
    "efPosAG_all = np.sqrt(fPosAG_all*(1.0-fPosAG_all)/TAG_all + SystError**2)\n",
    "ePAG_all  = np.sqrt(TAG_all*fPosAG_all*(1-fPosAG_all)) * (1.0 + SystErrorScale)\n",
    "SPAG_all  = PAG_all  * (TAG_all / nAveDailyAGTests_all)**Power\n",
    "eSPAG_all = ePAG_all * (TAG_all / nAveDailyAGTests_all)**Power\n",
    "\n",
    "# Calculate the Scaled Positives (SP):\n",
    "nAveDailyTests_all = T_all.mean()\n",
    "print(\"Average number of PCR tests: \", nAveDailyTests_all)\n",
    "fPos_all = P_all / T_all\n",
    "efPos_all = np.sqrt(fPos_all*(1.0-fPos_all)/T_all + SystError**2)\n",
    "eP_all  = np.sqrt(T_all*fPos_all*(1-fPos_all)) * (1.0 + SystErrorScale)\n",
    "SP_all  = P_all  * (T_all / nAveDailyTests_all)**Power\n",
    "eSP_all = eP_all * (T_all / nAveDailyTests_all)**Power"
   ]
  },
  {
   "cell_type": "code",
   "execution_count": 11,
   "metadata": {},
   "outputs": [
    {
     "data": {
      "image/png": "[encoded data removed]",
      "text/plain": [
       "<Figure size 864x432 with 1 Axes>"
      ]
     },
     "metadata": {
      "needs_background": "light"
     },
     "output_type": "display_data"
    }
   ],
   "source": [
    "days = np.arange(len(PAG_all))\n",
    "\n",
    "fig, ax=plt.subplots(figsize=(12,6))\n",
    "ax.errorbar(P_all.index,SPAG_all,yerr=eSPAG_all,fmt='.', linewidth=1, label='AntiGen', color='red')\n",
    "ax.errorbar(P_all.index,SP_all,yerr=eSP_all,fmt='.', linewidth=1, label='PCR', color='green')\n",
    "ax.legend(loc='best')\n",
    "ax.set(ylabel=\"Scaled positives\",ylim=(0,850))\n",
    "ax.xaxis.set_major_locator(plt.MaxNLocator(15))\n",
    "for label in ax.get_xticklabels():\n",
    "        label.set_rotation(40)\n",
    "plt.show()"
   ]
  },
  {
   "cell_type": "code",
   "execution_count": 6,
   "metadata": {},
   "outputs": [
    {
     "name": "stdout",
     "output_type": "stream",
     "text": [
      "-0.03683462668515654\n",
      "-0.04466918250097885\n",
      "-0.06948426127244191\n",
      "-0.04180772232036224\n",
      "-0.07068532359654578\n",
      "-0.044529309235873914\n",
      "-0.03590933575869454\n"
     ]
    }
   ],
   "source": [
    "def corr(a,b):\n",
    "    return np.sum((a-np.mean(a)) * (b-np.mean(b))) / ((a.size - 1) * np.std(a,ddof=1) * np.std(b,ddof=1))\n",
    "\n",
    "print(corr(SPAG_all[:-3], SP_all[3:]))\n",
    "print(corr(SPAG_all[:-2], SP_all[2:]))\n",
    "print(corr(SPAG_all[:-1], SP_all[1:]))\n",
    "print(corr(SPAG_all,SP_all))\n",
    "print(corr(SPAG_all[1:],SP_all[:-1]))\n",
    "print(corr(SPAG_all[2:],SP_all[:-2]))\n",
    "print(corr(SPAG_all[3:],SP_all[:-3]))"
   ]
  },
  {
   "cell_type": "code",
   "execution_count": null,
   "metadata": {},
   "outputs": [],
   "source": []
  }
 ],
 "metadata": {
  "kernelspec": {
   "display_name": "Python 3",
   "language": "python",
   "name": "python3"
  },
  "language_info": {
   "codemirror_mode": {
    "name": "ipython",
    "version": 3
   },
   "file_extension": ".py",
   "mimetype": "text/x-python",
   "name": "python",
   "nbconvert_exporter": "python",
   "pygments_lexer": "ipython3",
   "version": "3.8.3"
  }
 },
 "nbformat": 4,
 "nbformat_minor": 4
}
