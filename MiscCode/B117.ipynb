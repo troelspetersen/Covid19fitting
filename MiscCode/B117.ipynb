{
 "cells": [
  {
   "cell_type": "markdown",
   "metadata": {},
   "source": [
    "# Calculation of B.1.1.7 (British Variant) in Denmark & Future Estimates\n",
    "\n",
    "The following consists of two fits to Danish Covid-19 test and sequencing data, with the aim of determining most precisely the picture for the coming months time. It is based on the combination of results from two fits:\n",
    "\n",
    "\n",
    "### Fit of B.1.1.7 fraction:\n",
    "The first fit determins the development in the **fraction** of B.1.1.7 $f_B$ among the positive tests. This fraction is **independent** of the variations in the contact number (factoring out this part of the problem), and from this one can also determine how much more infectious B.1.1.7 is. The B.1.1.7 data is modelled as:\n",
    "\n",
    "$$f_{B}(t) = \\frac{f_{B}(t_0) ~ \\exp(t/\\tau_{f_B})}{(1-f_{B}(t_0)) ~+~ f_{B}(t_0) \\exp(t/\\tau_{f_B})}$$\n",
    "\n",
    "The data is from the sequencing (WGS) of positive samples. It should be **clearly stated** that these samples are **NOT** guaranteed to be random, which renders the result potentially biased. We consider the daily statistics (which is low) with a binned likelihood fit.\n",
    "\n",
    "\n",
    "### Fit to current test & positive numbers:\n",
    "The second fit determins the parameters of the current (rather stable) situation, that is the number of daily positives $P_i$, which is scaled in relation to the number of daily tests $T_i$ as $(T_i/\\bar{T})^{0.7}$, as the number of positives does not grow linearly with number of tests. From this fit one can also extract the contact number. Based on the extension of the lockdown to the 7th of February, and therefore assuming an unchanged contact number, estimates of the coming month can be done.\n",
    "\n",
    "The fit model to the scaled positives is: $SP(t) = SP(t_0) ~ R^{(t-t_0)/t_G}$, where $t_G = 4.7$ days."
   ]
  },
  {
   "cell_type": "code",
   "execution_count": 1,
   "metadata": {},
   "outputs": [],
   "source": [
    "import pandas as pd\n",
    "import matplotlib as mpl\n",
    "import matplotlib.pyplot as plt\n",
    "import matplotlib.dates as mdates\n",
    "import datetime as dt\n",
    "import numpy as np\n",
    "import scipy \n",
    "# from scipy.optimize import curve_fit, minimize\n",
    "import scipy.stats\n",
    "from scipy import stats\n",
    "import iminuit\n",
    "from iminuit import Minuit\n",
    "\n",
    "mpl.rcParams['font.size'] = 18      # Set the general plotting font size\n",
    "plt.rc(\"font\", family=\"serif\")\n",
    "#plt.rc(\"text\", usetex=True)\n",
    "\n",
    "save_plots = True"
   ]
  },
  {
   "cell_type": "markdown",
   "metadata": {},
   "source": [
    "***\n",
    "\n",
    "# Fit of B.1.1.7 fraction:"
   ]
  },
  {
   "cell_type": "markdown",
   "metadata": {},
   "source": [
    "## Read the data:\n",
    "\n",
    "The data - which is based on single cases - is organised into a daily count of positives with and without B.1.1.7."
   ]
  },
  {
   "cell_type": "code",
   "execution_count": 2,
   "metadata": {
    "scrolled": false
   },
   "outputs": [
    {
     "name": "stdout",
     "output_type": "stream",
     "text": [
      "  Days back in time: 60     date: 2020-12-06 00:00:00   N(B117) =   0  Ntotal =  302   frac = 0.000\n",
      "  Days back in time: 59     date: 2020-12-07 00:00:00   N(B117) =   1  Ntotal =  286   frac = 0.003\n",
      "  Days back in time: 58     date: 2020-12-08 00:00:00   N(B117) =   0  Ntotal =  804   frac = 0.000\n",
      "  Days back in time: 57     date: 2020-12-09 00:00:00   N(B117) =   1  Ntotal =  397   frac = 0.003\n",
      "  Days back in time: 56     date: 2020-12-10 00:00:00   N(B117) =   0  Ntotal =  220   frac = 0.000\n",
      "  Days back in time: 55     date: 2020-12-11 00:00:00   N(B117) =   0  Ntotal =  678   frac = 0.000\n",
      "  Days back in time: 54     date: 2020-12-12 00:00:00   N(B117) =   3  Ntotal =  271   frac = 0.011\n",
      "  Days back in time: 53     date: 2020-12-13 00:00:00   N(B117) =   8  Ntotal =  667   frac = 0.012\n",
      "  Days back in time: 52     date: 2020-12-14 00:00:00   N(B117) =   3  Ntotal =  915   frac = 0.003\n",
      "  Days back in time: 51     date: 2020-12-15 00:00:00   N(B117) =   3  Ntotal =  690   frac = 0.004\n",
      "  Days back in time: 50     date: 2020-12-16 00:00:00   N(B117) =   9  Ntotal =  539   frac = 0.017\n",
      "  Days back in time: 49     date: 2020-12-17 00:00:00   N(B117) =   5  Ntotal =  688   frac = 0.007\n",
      "  Days back in time: 48     date: 2020-12-18 00:00:00   N(B117) =   2  Ntotal =  336   frac = 0.006\n",
      "  Days back in time: 47     date: 2020-12-19 00:00:00   N(B117) =   2  Ntotal =  754   frac = 0.003\n",
      "  Days back in time: 46     date: 2020-12-20 00:00:00   N(B117) =   7  Ntotal =  370   frac = 0.019\n",
      "  Days back in time: 45     date: 2020-12-21 00:00:00   N(B117) =   1  Ntotal =  193   frac = 0.005\n",
      "  Days back in time: 44     date: 2020-12-22 00:00:00   N(B117) =   3  Ntotal =  223   frac = 0.013\n",
      "  Days back in time: 43     date: 2020-12-23 00:00:00   N(B117) =   8  Ntotal =  211   frac = 0.038\n",
      "  Days back in time: 42     date: 2020-12-24 00:00:00   N(B117) =   8  Ntotal =  485   frac = 0.016\n",
      "  Days back in time: 41     date: 2020-12-25 00:00:00   N(B117) =  13  Ntotal =  767   frac = 0.017\n",
      "  Days back in time: 40     date: 2020-12-26 00:00:00   N(B117) =  22  Ntotal = 1321   frac = 0.017\n",
      "  Days back in time: 39     date: 2020-12-27 00:00:00   N(B117) =   4  Ntotal =  554   frac = 0.007\n",
      "  Days back in time: 38     date: 2020-12-28 00:00:00   N(B117) =   6  Ntotal =  284   frac = 0.021\n",
      "  Days back in time: 37     date: 2020-12-29 00:00:00   N(B117) =   3  Ntotal =  276   frac = 0.011\n",
      "  Days back in time: 36     date: 2020-12-30 00:00:00   N(B117) =   6  Ntotal =  342   frac = 0.018\n",
      "  Days back in time: 35     date: 2020-12-31 00:00:00   N(B117) =  17  Ntotal =  488   frac = 0.035\n",
      "  Days back in time: 34     date: 2021-01-01 00:00:00   N(B117) =  13  Ntotal =  804   frac = 0.016\n",
      "  Days back in time: 33     date: 2021-01-02 00:00:00   N(B117) =  20  Ntotal = 1262   frac = 0.016\n",
      "  Days back in time: 32     date: 2021-01-03 00:00:00   N(B117) =  12  Ntotal =  791   frac = 0.015\n",
      "  Days back in time: 31     date: 2021-01-04 00:00:00   N(B117) =  17  Ntotal =  936   frac = 0.018\n",
      "  Days back in time: 30     date: 2021-01-05 00:00:00   N(B117) =  35  Ntotal = 1051   frac = 0.033\n",
      "  Days back in time: 29     date: 2021-01-06 00:00:00   N(B117) =  12  Ntotal =  447   frac = 0.027\n",
      "  Days back in time: 28     date: 2021-01-07 00:00:00   N(B117) =   7  Ntotal =  352   frac = 0.020\n",
      "  Days back in time: 27     date: 2021-01-08 00:00:00   N(B117) =  21  Ntotal =  778   frac = 0.027\n",
      "  Days back in time: 26     date: 2021-01-09 00:00:00   N(B117) =  17  Ntotal =  671   frac = 0.025\n",
      "  Days back in time: 25     date: 2021-01-10 00:00:00   N(B117) =  25  Ntotal =  650   frac = 0.038\n",
      "  Days back in time: 24     date: 2021-01-11 00:00:00   N(B117) =  42  Ntotal =  771   frac = 0.054\n",
      "  Days back in time: 23     date: 2021-01-12 00:00:00   N(B117) =  42  Ntotal =  715   frac = 0.059\n",
      "  Days back in time: 22     date: 2021-01-13 00:00:00   N(B117) =  24  Ntotal =  622   frac = 0.039\n",
      "  Days back in time: 21     date: 2021-01-14 00:00:00   N(B117) =  38  Ntotal =  771   frac = 0.049\n",
      "  Days back in time: 20     date: 2021-01-15 00:00:00   N(B117) =  36  Ntotal =  586   frac = 0.061\n",
      "  Days back in time: 19     date: 2021-01-16 00:00:00   N(B117) =  39  Ntotal =  546   frac = 0.071\n",
      "  Days back in time: 18     date: 2021-01-17 00:00:00   N(B117) =  46  Ntotal =  519   frac = 0.089\n",
      "  Days back in time: 17     date: 2021-01-18 00:00:00   N(B117) =  62  Ntotal =  736   frac = 0.084\n",
      "  Days back in time: 16     date: 2021-01-19 00:00:00   N(B117) =  72  Ntotal =  714   frac = 0.101\n",
      "  Days back in time: 15     date: 2021-01-20 00:00:00   N(B117) =  61  Ntotal =  655   frac = 0.093\n",
      "  Days back in time: 14     date: 2021-01-21 00:00:00   N(B117) =  82  Ntotal =  724   frac = 0.113\n",
      "  Days back in time: 13     date: 2021-01-22 00:00:00   N(B117) =  53  Ntotal =  506   frac = 0.105\n",
      "  Days back in time: 12     date: 2021-01-23 00:00:00   N(B117) =  57  Ntotal =  442   frac = 0.129\n",
      "  Days back in time: 11     date: 2021-01-24 00:00:00   N(B117) =  59  Ntotal =  475   frac = 0.124\n",
      "  Days back in time: 10     date: 2021-01-25 00:00:00   N(B117) =  81  Ntotal =  692   frac = 0.117\n",
      "  Days back in time:  9     date: 2021-01-26 00:00:00   N(B117) =  83  Ntotal =  609   frac = 0.136\n",
      "  Days back in time:  8     date: 2021-01-27 00:00:00   N(B117) =  83  Ntotal =  478   frac = 0.174\n",
      "  Days back in time:  7     date: 2021-01-28 00:00:00   N(B117) =  65  Ntotal =  462   frac = 0.141\n",
      "  Days back in time:  6     date: 2021-01-29 00:00:00   N(B117) =  68  Ntotal =  340   frac = 0.200\n",
      "  Days back in time:  5     date: 2021-01-30 00:00:00   N(B117) =  54  Ntotal =  341   frac = 0.158\n",
      "  Days back in time:  4     date: 2021-01-31 00:00:00   N(B117) =  64  Ntotal =  351   frac = 0.182\n",
      "  Days back in time:  3     date: 2021-02-01 00:00:00   N(B117) =  81  Ntotal =  435   frac = 0.186\n",
      "  Days back in time:  2     date: 2021-02-02 00:00:00   N(B117) =  91  Ntotal =  377   frac = 0.241\n",
      "  Days back in time:  1     date: 2021-02-03 00:00:00   N(B117) =   6  Ntotal =   36   frac = 0.167\n"
     ]
    }
   ],
   "source": [
    "# table = pd.read_excel('2021-01-17_CAHM.xlsx')\n",
    "# table = pd.read_excel('2021-01-24_CAHM.xlsx')\n",
    "# table = pd.read_excel('2021-01-27_N501Y.xlsx')\n",
    "#table = pd.read_excel('2021-01-28_N501Y.xlsx')\n",
    "table = pd.read_excel('2021-02-09_WGS_Data.xlsx')\n",
    "\n",
    "\n",
    "Nb117  = []\n",
    "Ntotal = []\n",
    "dates  = []\n",
    "\n",
    "for date, data in table.groupby('date_sampling'): \n",
    "    Nb117.append( len(data['clade'][data['clade'] == '20I/501Y.V1']) ) # determine number segmented to clade given day\n",
    "    Ntotal.append( len(data['clade']) )                                # determine number segmented totally\n",
    "    dates.append(date)                                                 # Store dates, sorted by group\n",
    "\n",
    "# Set number of days to include in the fit (i.e. days back in time):\n",
    "Ndays = 60\n",
    "\n",
    "# Set the average time between generation (in days):\n",
    "tG = 4.7\n",
    "\n",
    "# Get numpy arrays of the counts and the fraction of B.1.1.7:\n",
    "Nb117, Ntotal = np.array(Nb117), np.array(Ntotal)\n",
    "frac = Nb117/Ntotal\n",
    "\n",
    "for i in range(len(frac)-Ndays,len(frac)) :\n",
    "    print(f\"  Days back in time: {len(frac)-i:2d}     date: {dates[i]}   N(B117) = {Nb117[i]:3.0f}  Ntotal = {Ntotal[i]:4.0f}   frac = {frac[i]:5.3f}\")"
   ]
  },
  {
   "cell_type": "markdown",
   "metadata": {},
   "source": [
    "## Define fitting function and model:"
   ]
  },
  {
   "cell_type": "code",
   "execution_count": 3,
   "metadata": {},
   "outputs": [],
   "source": [
    "# Fitting function:\n",
    "def func_logistic(t, frac_t0, tau) :\n",
    "    return frac_t0*np.exp(t/tau) / ((1-frac_t0) + frac_t0*np.exp(t/tau))\n",
    "\n",
    "# Binned likelihood fit model:\n",
    "def model_bllh(x, N_obs, frac_t0, tau):\n",
    "    N_exp = func_logistic(x, frac_t0, tau) * Ntotal[-Ndays:]\n",
    "    return -2*sum( stats.poisson.logpmf( N_obs, N_exp ) )"
   ]
  },
  {
   "cell_type": "code",
   "execution_count": 4,
   "metadata": {
    "scrolled": true
   },
   "outputs": [
    {
     "name": "stdout",
     "output_type": "stream",
     "text": [
      "   Frac_t0: 0.251 +- 0.006   Tau:  12.4 +- 0.3    factor_B117 = 1.460 +- 0.011\n"
     ]
    }
   ],
   "source": [
    "# Fit the fraction:\n",
    "minuit_obj = Minuit(lambda frac_t0, tau: model_bllh(np.arange(-len(frac[-Ndays:]), 0), Nb117[-Ndays:], frac_t0, tau), \n",
    "                    frac_t0=0.26, tau=12.0, error_frac_t0 = 0.05, error_tau=1.0, errordef=0.5)\n",
    "minuit_obj.errordef = 0.5\n",
    "minuit_obj.migrad()   \n",
    "if (not minuit_obj.fmin.is_valid) :                                   # Check if the fit converged\n",
    "    print(\"  WARNING: The Likelihood fit DID NOT converge!!!\")\n",
    "\n",
    "# Record the fit results and print them:\n",
    "frac_t0_fit, dfrac_t0_fit = minuit_obj.params[0].value, minuit_obj.params[0].error\n",
    "tau_fit, dtau_fit         = minuit_obj.params[1].value, minuit_obj.params[1].error\n",
    "factor_B117 = np.e**(tG/tau_fit)\n",
    "efactor_B117 = np.e**(tG/tau_fit) * (tG/tau_fit**2) * dtau_fit\n",
    "print(f\"   Frac_t0: {frac_t0_fit:5.3f} +- {dfrac_t0_fit:5.3f}   Tau: {tau_fit:5.1f} +- {dtau_fit:3.1f}    factor_B117 = {factor_B117:5.3f} +- {efactor_B117:5.3f}\") "
   ]
  },
  {
   "cell_type": "code",
   "execution_count": 12,
   "metadata": {},
   "outputs": [
    {
     "name": "stdout",
     "output_type": "stream",
     "text": [
      "   Frac_t0: 0.255 +- 0.008   Tau: 12.19 +- 0.40    factor_B117 = 1.470 +- 0.019\n"
     ]
    }
   ],
   "source": [
    "Ndays2 = 30\n",
    "\n",
    "# Binned likelihood fit model:\n",
    "def model_bllh2(x, N_obs, frac_t0, tau):\n",
    "    N_exp = func_logistic(x, frac_t0, tau) * Ntotal[-Ndays2:]\n",
    "    return -2*sum( stats.poisson.logpmf( N_obs, N_exp ) )\n",
    "\n",
    "# Fit the fraction:\n",
    "minuit_obj2 = Minuit(lambda frac_t0, tau: model_bllh2(np.arange(-len(frac[-Ndays2:]), 0), Nb117[-Ndays2:], frac_t0, tau), \n",
    "                    frac_t0=0.26, tau=12.0, error_frac_t0 = 0.05, error_tau=1.0, errordef=0.5)\n",
    "minuit_obj2.errordef = 0.5\n",
    "minuit_obj2.migrad()   \n",
    "if (not minuit_obj2.fmin.is_valid) :                                   # Check if the fit converged\n",
    "    print(\"  WARNING: The Likelihood fit DID NOT converge!!!\")\n",
    "\n",
    "# Record the fit results and print them:\n",
    "frac_t0_fit2, dfrac_t0_fit2 = minuit_obj2.params[0].value, minuit_obj2.params[0].error\n",
    "tau_fit2, dtau_fit2         = minuit_obj2.params[1].value, minuit_obj2.params[1].error\n",
    "factor_B117 = np.e**(tG/tau_fit2)\n",
    "efactor_B117 = np.e**(tG/tau_fit2) * (tG/tau_fit2**2) * dtau_fit2\n",
    "print(f\"   Frac_t0: {frac_t0_fit2:5.3f} +- {dfrac_t0_fit2:5.3f}   Tau: {tau_fit2:5.2f} +- {dtau_fit2:4.2f}    factor_B117 = {factor_B117:5.3f} +- {efactor_B117:5.3f}\") "
   ]
  },
  {
   "cell_type": "markdown",
   "metadata": {},
   "source": [
    "## Plot the fit result and extrapolate into future:"
   ]
  },
  {
   "cell_type": "code",
   "execution_count": 6,
   "metadata": {},
   "outputs": [
    {
     "data": {
      "image/png": "[encoded data removed]",
      "text/plain": [
       "<Figure size 864x576 with 1 Axes>"
      ]
     },
     "metadata": {
      "needs_background": "light"
     },
     "output_type": "display_data"
    }
   ],
   "source": [
    "Nsig = 2.0      # Number of sigmas to change parameters for error band!\n",
    "Nfuture = 80\n",
    "\n",
    "plt.figure(figsize=(12,8))\n",
    "plt.scatter(np.arange(-len(frac),0), frac, color='r', label='Data')\n",
    "\n",
    "#plt.plot(np.arange(-Ndays,0),  func_logistic(np.arange(-Ndays,0),  *[frac_t0_fit, tau_fit]), label='Logistic fit (60 days)', color=\"blue\", linewidth=3)\n",
    "#plt.plot(np.arange(0,Nfuture), func_logistic(np.arange(0,Nfuture), *[frac_t0_fit, tau_fit]), label='Extrapolation (factor_B117 = 1.460 +- 0.011)', color=\"blue\", linestyle=\":\")\n",
    "#plt.plot(np.arange(-Ndays2,0), func_logistic(np.arange(-Ndays2,0), *[frac_t0_fit2, tau_fit2]), label='Logistic fit (30 days)', color=\"green\", linewidth=3)\n",
    "#plt.plot(np.arange(0,Nfuture), func_logistic(np.arange(0,Nfuture), *[frac_t0_fit2, tau_fit2]), label='Extrapolation (factor_B117 = 1.470 +- 0.019)', color=\"green\", linestyle=\":\")\n",
    "plt.plot(np.arange(-Ndays2,0), func_logistic(np.arange(-Ndays2,0), *[frac_t0_fit2, tau_fit2]), label='Logistic fit (factor B117 = 1.470 +- 0.019)', color=\"green\", linewidth=3)\n",
    "plt.plot(np.arange(0,Nfuture), func_logistic(np.arange(0,Nfuture), *[frac_t0_fit2, tau_fit2]), label='Extrapolation', color=\"green\", linestyle=\":\")\n",
    "plt.legend()\n",
    "\n",
    "# Plot an \"envelope\" of possible predictions:\n",
    "#plt.plot(np.arange(0,Nfuture), func_logistic(np.arange(0,Nfuture), *[frac_t0_fit+Nsig*dfrac_t0_fit, tau_fit-Nsig*dtau_fit]), label='LLH', color=\"blue\", linestyle=\":\")\n",
    "#plt.plot(np.arange(0,Nfuture), func_logistic(np.arange(0,Nfuture), *[frac_t0_fit-Nsig*dfrac_t0_fit, tau_fit+Nsig*dtau_fit]), label='LLH', color=\"blue\", linestyle=\":\")\n",
    "#plt.fill_between(np.arange(0,Nfuture), func_logistic(np.arange(0,Nfuture), *[frac_t0_fit+Nsig*dfrac_t0_fit, tau_fit-Nsig*dtau_fit]), func_logistic(np.arange(0,Nfuture), *[frac_t0_fit-Nsig*dfrac_t0_fit, tau_fit+Nsig*dtau_fit]), color='blue', alpha=0.3)\n",
    "\n",
    "#plt.plot(np.arange(0,Nfuture), func_logistic(np.arange(0,Nfuture), *[frac_t0_fit2+Nsig*dfrac_t0_fit2, tau_fit2-Nsig*dtau_fit2]), label='LLH', color=\"green\", linestyle=\":\")\n",
    "#plt.plot(np.arange(0,Nfuture), func_logistic(np.arange(0,Nfuture), *[frac_t0_fit2-Nsig*dfrac_t0_fit2, tau_fit2+Nsig*dtau_fit2]), label='LLH', color=\"green\", linestyle=\":\")\n",
    "plt.fill_between(np.arange(0,Nfuture), func_logistic(np.arange(0,Nfuture), *[frac_t0_fit2+Nsig*dfrac_t0_fit2, tau_fit2-Nsig*dtau_fit2]), func_logistic(np.arange(0,Nfuture), *[frac_t0_fit2-Nsig*dfrac_t0_fit2, tau_fit2+Nsig*dtau_fit2]), color='green', alpha=0.3)\n",
    "\n",
    "# Show estimate of \"British take-over\":\n",
    "plt.axhline(y=0.5,  xmin=-Ndays, xmax=Nfuture, color='black', linewidth=2.0, linestyle=\"dotted\")\n",
    "plt.axvline(x=13.0, ymin=0.0,    ymax=0.5,     color='black', linewidth=2.0, linestyle=\"dotted\")\n",
    "plt.text(16.0, 0.25, \"16th of February\\n (B117 at 50%)\", fontsize=22)\n",
    "\n",
    "plt.xlim(-Ndays,Nfuture)\n",
    "plt.ylabel('Fraction of B.1.1.7', fontsize=22)\n",
    "plt.xlabel('Dates relative to '+str(dates[-1].day)+'-'+str(dates[-1].month)+'-'+str(dates[-1].year), fontsize=22 )\n",
    "\n",
    "plt.tight_layout()\n",
    "if (save_plots) :\n",
    "    plt.savefig(\"fig_FitOfB117fraction_SingleGraph.pdf\")"
   ]
  },
  {
   "cell_type": "markdown",
   "metadata": {},
   "source": [
    "## Discussion of \"lifetime\":\n",
    "\n",
    "The \"lifetime\" $\\tau = 11.8 \\pm 0.3$ days from the fit suggests, that it takes about 11.8 days for B.1.1.7 to grow by a factor $e = 2.7$, and thus given a generation time of $t_G = 4.7~\\mbox{days}$, that the infection rate from B.1.1.7 is the following factor greater than the current dominant variant in Denmark:\n",
    "\n",
    "$$\\tau = 11.8~\\mbox{days} \\longrightarrow \\beta_{B117} = \\beta \\times e^{4.7/11.8} = \\beta \\times 1.49$$"
   ]
  },
  {
   "cell_type": "code",
   "execution_count": 7,
   "metadata": {
    "scrolled": true
   },
   "outputs": [
    {
     "name": "stdout",
     "output_type": "stream",
     "text": [
      "  factor_B117 = 1.49 +- 0.02\n"
     ]
    }
   ],
   "source": [
    "factor_B117 = np.e**(tG/tau_fit2)\n",
    "efactor_B117 = np.e**(tG/tau_fit2) * (tG/tau_fit2**2) * dtau_fit2\n",
    "print(f\"  factor_B117 = {factor_B117:4.2f} +- {efactor_B117:4.2f}\")"
   ]
  },
  {
   "cell_type": "markdown",
   "metadata": {},
   "source": [
    "### Calculate systematic variations with fitting range:"
   ]
  },
  {
   "cell_type": "code",
   "execution_count": 8,
   "metadata": {},
   "outputs": [
    {
     "name": "stdout",
     "output_type": "stream",
     "text": [
      "   Ndays in fit: 60     Frac_t0: 0.251 +- 0.006   Tau:  12.4 +- 0.3    factor_B117 = 1.46 +- 0.01\n",
      "   Ndays in fit: 59     Frac_t0: 0.250 +- 0.006   Tau:  12.4 +- 0.3    factor_B117 = 1.46 +- 0.01\n",
      "   Ndays in fit: 58     Frac_t0: 0.250 +- 0.006   Tau:  12.4 +- 0.3    factor_B117 = 1.46 +- 0.01\n",
      "   Ndays in fit: 57     Frac_t0: 0.249 +- 0.006   Tau:  12.5 +- 0.3    factor_B117 = 1.46 +- 0.01\n",
      "   Ndays in fit: 56     Frac_t0: 0.249 +- 0.006   Tau:  12.5 +- 0.3    factor_B117 = 1.45 +- 0.01\n",
      "   Ndays in fit: 55     Frac_t0: 0.248 +- 0.006   Tau:  12.6 +- 0.3    factor_B117 = 1.45 +- 0.01\n",
      "   Ndays in fit: 54     Frac_t0: 0.247 +- 0.006   Tau:  12.7 +- 0.3    factor_B117 = 1.45 +- 0.01\n",
      "   Ndays in fit: 53     Frac_t0: 0.248 +- 0.007   Tau:  12.6 +- 0.3    factor_B117 = 1.45 +- 0.01\n",
      "   Ndays in fit: 52     Frac_t0: 0.250 +- 0.007   Tau:  12.4 +- 0.3    factor_B117 = 1.46 +- 0.01\n",
      "   Ndays in fit: 51     Frac_t0: 0.249 +- 0.007   Tau:  12.5 +- 0.3    factor_B117 = 1.46 +- 0.01\n",
      "   Ndays in fit: 50     Frac_t0: 0.249 +- 0.007   Tau:  12.5 +- 0.3    factor_B117 = 1.46 +- 0.01\n",
      "   Ndays in fit: 49     Frac_t0: 0.252 +- 0.007   Tau:  12.3 +- 0.3    factor_B117 = 1.46 +- 0.01\n",
      "   Ndays in fit: 48     Frac_t0: 0.252 +- 0.007   Tau:  12.3 +- 0.3    factor_B117 = 1.46 +- 0.01\n",
      "   Ndays in fit: 47     Frac_t0: 0.252 +- 0.007   Tau:  12.3 +- 0.3    factor_B117 = 1.46 +- 0.01\n",
      "   Ndays in fit: 46     Frac_t0: 0.250 +- 0.007   Tau:  12.4 +- 0.3    factor_B117 = 1.46 +- 0.01\n",
      "   Ndays in fit: 45     Frac_t0: 0.252 +- 0.007   Tau:  12.3 +- 0.3    factor_B117 = 1.47 +- 0.01\n",
      "   Ndays in fit: 44     Frac_t0: 0.252 +- 0.007   Tau:  12.3 +- 0.3    factor_B117 = 1.46 +- 0.01\n",
      "   Ndays in fit: 43     Frac_t0: 0.252 +- 0.007   Tau:  12.3 +- 0.3    factor_B117 = 1.47 +- 0.01\n",
      "   Ndays in fit: 42     Frac_t0: 0.255 +- 0.007   Tau:  12.1 +- 0.3    factor_B117 = 1.47 +- 0.01\n",
      "   Ndays in fit: 41     Frac_t0: 0.257 +- 0.007   Tau:  12.0 +- 0.3    factor_B117 = 1.48 +- 0.01\n",
      "   Ndays in fit: 40     Frac_t0: 0.259 +- 0.007   Tau:  11.9 +- 0.3    factor_B117 = 1.48 +- 0.01\n",
      "   Ndays in fit: 39     Frac_t0: 0.262 +- 0.007   Tau:  11.7 +- 0.3    factor_B117 = 1.49 +- 0.02\n",
      "   Ndays in fit: 38     Frac_t0: 0.260 +- 0.007   Tau:  11.8 +- 0.3    factor_B117 = 1.49 +- 0.02\n",
      "   Ndays in fit: 37     Frac_t0: 0.261 +- 0.008   Tau:  11.7 +- 0.3    factor_B117 = 1.49 +- 0.02\n",
      "   Ndays in fit: 36     Frac_t0: 0.261 +- 0.008   Tau:  11.8 +- 0.3    factor_B117 = 1.49 +- 0.02\n",
      "   Ndays in fit: 35     Frac_t0: 0.261 +- 0.008   Tau:  11.8 +- 0.3    factor_B117 = 1.49 +- 0.02\n",
      "   Ndays in fit: 34     Frac_t0: 0.265 +- 0.008   Tau:  11.5 +- 0.3    factor_B117 = 1.50 +- 0.02\n",
      "   Ndays in fit: 33     Frac_t0: 0.264 +- 0.008   Tau:  11.6 +- 0.3    factor_B117 = 1.50 +- 0.02\n",
      "   Ndays in fit: 32     Frac_t0: 0.261 +- 0.008   Tau:  11.8 +- 0.3    factor_B117 = 1.49 +- 0.02\n",
      "   Ndays in fit: 31     Frac_t0: 0.259 +- 0.008   Tau:  12.0 +- 0.4    factor_B117 = 1.48 +- 0.02\n",
      "   Ndays in fit: 30     Frac_t0: 0.255 +- 0.008   Tau:  12.2 +- 0.4    factor_B117 = 1.47 +- 0.02\n",
      "   Ndays in fit: 29     Frac_t0: 0.258 +- 0.008   Tau:  12.0 +- 0.4    factor_B117 = 1.48 +- 0.02\n",
      "   Ndays in fit: 28     Frac_t0: 0.257 +- 0.008   Tau:  12.0 +- 0.4    factor_B117 = 1.48 +- 0.02\n",
      "   Ndays in fit: 27     Frac_t0: 0.255 +- 0.008   Tau:  12.2 +- 0.4    factor_B117 = 1.47 +- 0.02\n",
      "   Ndays in fit: 26     Frac_t0: 0.252 +- 0.009   Tau:  12.5 +- 0.5    factor_B117 = 1.46 +- 0.02\n",
      "   Ndays in fit: 25     Frac_t0: 0.247 +- 0.009   Tau:  13.0 +- 0.5    factor_B117 = 1.44 +- 0.02\n",
      "   Ndays in fit: 24     Frac_t0: 0.244 +- 0.009   Tau:  13.2 +- 0.6    factor_B117 = 1.43 +- 0.02\n",
      "   Ndays in fit: 23     Frac_t0: 0.246 +- 0.009   Tau:  13.0 +- 0.6    factor_B117 = 1.43 +- 0.02\n",
      "   Ndays in fit: 22     Frac_t0: 0.248 +- 0.009   Tau:  12.8 +- 0.6    factor_B117 = 1.44 +- 0.03\n",
      "   Ndays in fit: 21     Frac_t0: 0.243 +- 0.009   Tau:  13.4 +- 0.7    factor_B117 = 1.42 +- 0.03\n",
      "   Ndays in fit: 20     Frac_t0: 0.237 +- 0.009   Tau:  14.2 +- 0.9    factor_B117 = 1.39 +- 0.03\n",
      "   Ndays in fit: 19     Frac_t0: 0.234 +- 0.010   Tau:  14.6 +- 1.0    factor_B117 = 1.38 +- 0.03\n",
      "   Ndays in fit: 18     Frac_t0: 0.232 +- 0.010   Tau:  14.9 +- 1.1    factor_B117 = 1.37 +- 0.03\n",
      "   Ndays in fit: 17     Frac_t0: 0.234 +- 0.010   Tau:  14.6 +- 1.1    factor_B117 = 1.38 +- 0.03\n",
      "   Ndays in fit: 16     Frac_t0: 0.233 +- 0.011   Tau:  14.9 +- 1.3    factor_B117 = 1.37 +- 0.04\n",
      "   Ndays in fit: 15     Frac_t0: 0.236 +- 0.011   Tau:  14.2 +- 1.3    factor_B117 = 1.39 +- 0.04\n",
      "   Ndays in fit: 14     Frac_t0: 0.234 +- 0.012   Tau:  14.6 +- 1.6    factor_B117 = 1.38 +- 0.05\n",
      "   Ndays in fit: 13     Frac_t0: 0.239 +- 0.013   Tau:  13.6 +- 1.6    factor_B117 = 1.41 +- 0.06\n",
      "   Ndays in fit: 12     Frac_t0: 0.238 +- 0.013   Tau:  13.9 +- 1.8    factor_B117 = 1.40 +- 0.06\n",
      "   Ndays in fit: 11     Frac_t0: 0.243 +- 0.014   Tau:  12.8 +- 1.7    factor_B117 = 1.44 +- 0.07\n",
      "   Ndays in fit: 10     Frac_t0: 0.245 +- 0.015   Tau:  12.5 +- 1.8    factor_B117 = 1.46 +- 0.08\n",
      "   Ndays in fit:  9     Frac_t0: 0.236 +- 0.016   Tau:  14.5 +- 3.0    factor_B117 = 1.38 +- 0.09\n",
      "   Ndays in fit:  8     Frac_t0: 0.230 +- 0.017   Tau:  16.7 +- 5.0    factor_B117 = 1.33 +- 0.11\n"
     ]
    }
   ],
   "source": [
    "for iNdays in range(Ndays-7) :\n",
    "    \n",
    "    # Binned likelihood fit model:\n",
    "    def model_bllh3(x, N_obs, frac_t0, tau):\n",
    "        N_exp = func_logistic(x, frac_t0, tau) * Ntotal[-Ndays+iNdays:]\n",
    "        return -2*sum( stats.poisson.logpmf( N_obs, N_exp ) )\n",
    "    \n",
    "    minuit_obj3 = Minuit(lambda frac_t0, tau: model_bllh3(np.arange(-len(frac[-Ndays+iNdays:]), 0), Nb117[-Ndays+iNdays:], frac_t0, tau),\n",
    "                         frac_t0=0.26, tau=12.0, error_frac_t0 = 0.05, error_tau=1.0, errordef=0.5)\n",
    "    minuit_obj3.migrad()   \n",
    "    if (not minuit_obj3.fmin.is_valid) :                                   # Check if the fit converged\n",
    "        print(\"  WARNING: The Likelihood fit DID NOT converge!!!\")\n",
    "\n",
    "    # Record the fit results and print them:\n",
    "    frac_t0_fit, dfrac_t0_fit = minuit_obj3.params[0].value, minuit_obj3.params[0].error\n",
    "    tau_fit, dtau_fit         = minuit_obj3.params[1].value, minuit_obj3.params[1].error\n",
    "    factor_B117 = np.e**(tG/tau_fit)\n",
    "    efactor_B117 = np.e**(tG/tau_fit) * (tG/tau_fit**2) * dtau_fit\n",
    "    print(f\"   Ndays in fit: {Ndays-iNdays:2d}     Frac_t0: {frac_t0_fit:5.3f} +- {dfrac_t0_fit:5.3f}   Tau: {tau_fit:5.1f} +- {dtau_fit:3.1f}    factor_B117 = {factor_B117:4.2f} +- {efactor_B117:4.2f}\")"
   ]
  },
  {
   "cell_type": "markdown",
   "metadata": {},
   "source": [
    "***\n",
    "\n",
    "# Fit to current test & positive numbers:"
   ]
  },
  {
   "cell_type": "code",
   "execution_count": 9,
   "metadata": {},
   "outputs": [],
   "source": [
    "# Define ranges, fitting function, and model:\n",
    "Plot_StartDay = 1\n",
    "Plot_EndDay   = 53\n",
    "Fit_StartDay  = 2\n",
    "Fit_EndDay    = 52\n",
    "day1jan       = np.arange(Plot_StartDay, Plot_EndDay)\n",
    "day1jan_fit   = np.arange(Fit_StartDay, Fit_EndDay)\n",
    "day_extrapol  = np.arange(Fit_EndDay+1, Fit_EndDay+81)\n",
    "day_all       = np.arange(Fit_StartDay, Fit_EndDay+81)\n",
    "Npoints = len(day1jan_fit)"
   ]
  },
  {
   "cell_type": "markdown",
   "metadata": {},
   "source": [
    "## Read the data:"
   ]
  },
  {
   "cell_type": "code",
   "execution_count": 10,
   "metadata": {},
   "outputs": [
    {
     "ename": "FileNotFoundError",
     "evalue": "[Errno 2] File ./Data-epidemiologisk-rapport-22022021/Municipality_cases_time_series.csv does not exist: './Data-epidemiologisk-rapport-22022021/Municipality_cases_time_series.csv'",
     "output_type": "error",
     "traceback": [
      "\u001b[0;31m---------------------------------------------------------------------------\u001b[0m",
      "\u001b[0;31mFileNotFoundError\u001b[0m                         Traceback (most recent call last)",
      "\u001b[0;32m<ipython-input-10-5bfad56f0d50>\u001b[0m in \u001b[0;36m<module>\u001b[0;34m\u001b[0m\n\u001b[0;32m----> 1\u001b[0;31m \u001b[0mdata_posi\u001b[0m \u001b[0;34m=\u001b[0m \u001b[0mpd\u001b[0m\u001b[0;34m.\u001b[0m\u001b[0mread_csv\u001b[0m\u001b[0;34m(\u001b[0m\u001b[0;34m\"./Data-epidemiologisk-rapport-22022021/Municipality_cases_time_series.csv\"\u001b[0m\u001b[0;34m,\u001b[0m \u001b[0msep\u001b[0m\u001b[0;34m=\u001b[0m\u001b[0;34m';'\u001b[0m\u001b[0;34m,\u001b[0m \u001b[0mthousands\u001b[0m\u001b[0;34m=\u001b[0m\u001b[0;34m'.'\u001b[0m\u001b[0;34m,\u001b[0m \u001b[0mindex_col\u001b[0m\u001b[0;34m=\u001b[0m\u001b[0;36m0\u001b[0m\u001b[0;34m)\u001b[0m\u001b[0;34m\u001b[0m\u001b[0;34m\u001b[0m\u001b[0m\n\u001b[0m\u001b[1;32m      2\u001b[0m \u001b[0mdata_test\u001b[0m \u001b[0;34m=\u001b[0m \u001b[0mpd\u001b[0m\u001b[0;34m.\u001b[0m\u001b[0mread_csv\u001b[0m\u001b[0;34m(\u001b[0m\u001b[0;34m\"./Data-epidemiologisk-rapport-22022021/Municipality_tested_persons_time_series.csv\"\u001b[0m\u001b[0;34m,\u001b[0m \u001b[0msep\u001b[0m\u001b[0;34m=\u001b[0m\u001b[0;34m';'\u001b[0m\u001b[0;34m,\u001b[0m \u001b[0mthousands\u001b[0m\u001b[0;34m=\u001b[0m\u001b[0;34m'.'\u001b[0m\u001b[0;34m,\u001b[0m \u001b[0mindex_col\u001b[0m\u001b[0;34m=\u001b[0m\u001b[0;36m0\u001b[0m\u001b[0;34m)\u001b[0m\u001b[0;34m\u001b[0m\u001b[0;34m\u001b[0m\u001b[0m\n\u001b[1;32m      3\u001b[0m \u001b[0;34m\u001b[0m\u001b[0m\n\u001b[1;32m      4\u001b[0m \u001b[0;31m# All of Denmark\u001b[0m\u001b[0;34m\u001b[0m\u001b[0;34m\u001b[0m\u001b[0;34m\u001b[0m\u001b[0m\n\u001b[1;32m      5\u001b[0m \u001b[0mNposi_all\u001b[0m \u001b[0;34m=\u001b[0m \u001b[0mdata_posi\u001b[0m\u001b[0;34m.\u001b[0m\u001b[0mloc\u001b[0m\u001b[0;34m[\u001b[0m\u001b[0;34m\"2020-12-31\"\u001b[0m\u001b[0;34m:\u001b[0m\u001b[0;34m\"2021-02-21\"\u001b[0m\u001b[0;34m]\u001b[0m\u001b[0;34m.\u001b[0m\u001b[0msum\u001b[0m\u001b[0;34m(\u001b[0m\u001b[0maxis\u001b[0m\u001b[0;34m=\u001b[0m\u001b[0;36m1\u001b[0m\u001b[0;34m)\u001b[0m\u001b[0;34m\u001b[0m\u001b[0;34m\u001b[0m\u001b[0m\n",
      "\u001b[0;32m/opt/anaconda3/lib/python3.7/site-packages/pandas/io/parsers.py\u001b[0m in \u001b[0;36mparser_f\u001b[0;34m(filepath_or_buffer, sep, delimiter, header, names, index_col, usecols, squeeze, prefix, mangle_dupe_cols, dtype, engine, converters, true_values, false_values, skipinitialspace, skiprows, skipfooter, nrows, na_values, keep_default_na, na_filter, verbose, skip_blank_lines, parse_dates, infer_datetime_format, keep_date_col, date_parser, dayfirst, cache_dates, iterator, chunksize, compression, thousands, decimal, lineterminator, quotechar, quoting, doublequote, escapechar, comment, encoding, dialect, error_bad_lines, warn_bad_lines, delim_whitespace, low_memory, memory_map, float_precision)\u001b[0m\n\u001b[1;32m    674\u001b[0m         )\n\u001b[1;32m    675\u001b[0m \u001b[0;34m\u001b[0m\u001b[0m\n\u001b[0;32m--> 676\u001b[0;31m         \u001b[0;32mreturn\u001b[0m \u001b[0m_read\u001b[0m\u001b[0;34m(\u001b[0m\u001b[0mfilepath_or_buffer\u001b[0m\u001b[0;34m,\u001b[0m \u001b[0mkwds\u001b[0m\u001b[0;34m)\u001b[0m\u001b[0;34m\u001b[0m\u001b[0;34m\u001b[0m\u001b[0m\n\u001b[0m\u001b[1;32m    677\u001b[0m \u001b[0;34m\u001b[0m\u001b[0m\n\u001b[1;32m    678\u001b[0m     \u001b[0mparser_f\u001b[0m\u001b[0;34m.\u001b[0m\u001b[0m__name__\u001b[0m \u001b[0;34m=\u001b[0m \u001b[0mname\u001b[0m\u001b[0;34m\u001b[0m\u001b[0;34m\u001b[0m\u001b[0m\n",
      "\u001b[0;32m/opt/anaconda3/lib/python3.7/site-packages/pandas/io/parsers.py\u001b[0m in \u001b[0;36m_read\u001b[0;34m(filepath_or_buffer, kwds)\u001b[0m\n\u001b[1;32m    446\u001b[0m \u001b[0;34m\u001b[0m\u001b[0m\n\u001b[1;32m    447\u001b[0m     \u001b[0;31m# Create the parser.\u001b[0m\u001b[0;34m\u001b[0m\u001b[0;34m\u001b[0m\u001b[0;34m\u001b[0m\u001b[0m\n\u001b[0;32m--> 448\u001b[0;31m     \u001b[0mparser\u001b[0m \u001b[0;34m=\u001b[0m \u001b[0mTextFileReader\u001b[0m\u001b[0;34m(\u001b[0m\u001b[0mfp_or_buf\u001b[0m\u001b[0;34m,\u001b[0m \u001b[0;34m**\u001b[0m\u001b[0mkwds\u001b[0m\u001b[0;34m)\u001b[0m\u001b[0;34m\u001b[0m\u001b[0;34m\u001b[0m\u001b[0m\n\u001b[0m\u001b[1;32m    449\u001b[0m \u001b[0;34m\u001b[0m\u001b[0m\n\u001b[1;32m    450\u001b[0m     \u001b[0;32mif\u001b[0m \u001b[0mchunksize\u001b[0m \u001b[0;32mor\u001b[0m \u001b[0miterator\u001b[0m\u001b[0;34m:\u001b[0m\u001b[0;34m\u001b[0m\u001b[0;34m\u001b[0m\u001b[0m\n",
      "\u001b[0;32m/opt/anaconda3/lib/python3.7/site-packages/pandas/io/parsers.py\u001b[0m in \u001b[0;36m__init__\u001b[0;34m(self, f, engine, **kwds)\u001b[0m\n\u001b[1;32m    878\u001b[0m             \u001b[0mself\u001b[0m\u001b[0;34m.\u001b[0m\u001b[0moptions\u001b[0m\u001b[0;34m[\u001b[0m\u001b[0;34m\"has_index_names\"\u001b[0m\u001b[0;34m]\u001b[0m \u001b[0;34m=\u001b[0m \u001b[0mkwds\u001b[0m\u001b[0;34m[\u001b[0m\u001b[0;34m\"has_index_names\"\u001b[0m\u001b[0;34m]\u001b[0m\u001b[0;34m\u001b[0m\u001b[0;34m\u001b[0m\u001b[0m\n\u001b[1;32m    879\u001b[0m \u001b[0;34m\u001b[0m\u001b[0m\n\u001b[0;32m--> 880\u001b[0;31m         \u001b[0mself\u001b[0m\u001b[0;34m.\u001b[0m\u001b[0m_make_engine\u001b[0m\u001b[0;34m(\u001b[0m\u001b[0mself\u001b[0m\u001b[0;34m.\u001b[0m\u001b[0mengine\u001b[0m\u001b[0;34m)\u001b[0m\u001b[0;34m\u001b[0m\u001b[0;34m\u001b[0m\u001b[0m\n\u001b[0m\u001b[1;32m    881\u001b[0m \u001b[0;34m\u001b[0m\u001b[0m\n\u001b[1;32m    882\u001b[0m     \u001b[0;32mdef\u001b[0m \u001b[0mclose\u001b[0m\u001b[0;34m(\u001b[0m\u001b[0mself\u001b[0m\u001b[0;34m)\u001b[0m\u001b[0;34m:\u001b[0m\u001b[0;34m\u001b[0m\u001b[0;34m\u001b[0m\u001b[0m\n",
      "\u001b[0;32m/opt/anaconda3/lib/python3.7/site-packages/pandas/io/parsers.py\u001b[0m in \u001b[0;36m_make_engine\u001b[0;34m(self, engine)\u001b[0m\n\u001b[1;32m   1112\u001b[0m     \u001b[0;32mdef\u001b[0m \u001b[0m_make_engine\u001b[0m\u001b[0;34m(\u001b[0m\u001b[0mself\u001b[0m\u001b[0;34m,\u001b[0m \u001b[0mengine\u001b[0m\u001b[0;34m=\u001b[0m\u001b[0;34m\"c\"\u001b[0m\u001b[0;34m)\u001b[0m\u001b[0;34m:\u001b[0m\u001b[0;34m\u001b[0m\u001b[0;34m\u001b[0m\u001b[0m\n\u001b[1;32m   1113\u001b[0m         \u001b[0;32mif\u001b[0m \u001b[0mengine\u001b[0m \u001b[0;34m==\u001b[0m \u001b[0;34m\"c\"\u001b[0m\u001b[0;34m:\u001b[0m\u001b[0;34m\u001b[0m\u001b[0;34m\u001b[0m\u001b[0m\n\u001b[0;32m-> 1114\u001b[0;31m             \u001b[0mself\u001b[0m\u001b[0;34m.\u001b[0m\u001b[0m_engine\u001b[0m \u001b[0;34m=\u001b[0m \u001b[0mCParserWrapper\u001b[0m\u001b[0;34m(\u001b[0m\u001b[0mself\u001b[0m\u001b[0;34m.\u001b[0m\u001b[0mf\u001b[0m\u001b[0;34m,\u001b[0m \u001b[0;34m**\u001b[0m\u001b[0mself\u001b[0m\u001b[0;34m.\u001b[0m\u001b[0moptions\u001b[0m\u001b[0;34m)\u001b[0m\u001b[0;34m\u001b[0m\u001b[0;34m\u001b[0m\u001b[0m\n\u001b[0m\u001b[1;32m   1115\u001b[0m         \u001b[0;32melse\u001b[0m\u001b[0;34m:\u001b[0m\u001b[0;34m\u001b[0m\u001b[0;34m\u001b[0m\u001b[0m\n\u001b[1;32m   1116\u001b[0m             \u001b[0;32mif\u001b[0m \u001b[0mengine\u001b[0m \u001b[0;34m==\u001b[0m \u001b[0;34m\"python\"\u001b[0m\u001b[0;34m:\u001b[0m\u001b[0;34m\u001b[0m\u001b[0;34m\u001b[0m\u001b[0m\n",
      "\u001b[0;32m/opt/anaconda3/lib/python3.7/site-packages/pandas/io/parsers.py\u001b[0m in \u001b[0;36m__init__\u001b[0;34m(self, src, **kwds)\u001b[0m\n\u001b[1;32m   1889\u001b[0m         \u001b[0mkwds\u001b[0m\u001b[0;34m[\u001b[0m\u001b[0;34m\"usecols\"\u001b[0m\u001b[0;34m]\u001b[0m \u001b[0;34m=\u001b[0m \u001b[0mself\u001b[0m\u001b[0;34m.\u001b[0m\u001b[0musecols\u001b[0m\u001b[0;34m\u001b[0m\u001b[0;34m\u001b[0m\u001b[0m\n\u001b[1;32m   1890\u001b[0m \u001b[0;34m\u001b[0m\u001b[0m\n\u001b[0;32m-> 1891\u001b[0;31m         \u001b[0mself\u001b[0m\u001b[0;34m.\u001b[0m\u001b[0m_reader\u001b[0m \u001b[0;34m=\u001b[0m \u001b[0mparsers\u001b[0m\u001b[0;34m.\u001b[0m\u001b[0mTextReader\u001b[0m\u001b[0;34m(\u001b[0m\u001b[0msrc\u001b[0m\u001b[0;34m,\u001b[0m \u001b[0;34m**\u001b[0m\u001b[0mkwds\u001b[0m\u001b[0;34m)\u001b[0m\u001b[0;34m\u001b[0m\u001b[0;34m\u001b[0m\u001b[0m\n\u001b[0m\u001b[1;32m   1892\u001b[0m         \u001b[0mself\u001b[0m\u001b[0;34m.\u001b[0m\u001b[0munnamed_cols\u001b[0m \u001b[0;34m=\u001b[0m \u001b[0mself\u001b[0m\u001b[0;34m.\u001b[0m\u001b[0m_reader\u001b[0m\u001b[0;34m.\u001b[0m\u001b[0munnamed_cols\u001b[0m\u001b[0;34m\u001b[0m\u001b[0;34m\u001b[0m\u001b[0m\n\u001b[1;32m   1893\u001b[0m \u001b[0;34m\u001b[0m\u001b[0m\n",
      "\u001b[0;32mpandas/_libs/parsers.pyx\u001b[0m in \u001b[0;36mpandas._libs.parsers.TextReader.__cinit__\u001b[0;34m()\u001b[0m\n",
      "\u001b[0;32mpandas/_libs/parsers.pyx\u001b[0m in \u001b[0;36mpandas._libs.parsers.TextReader._setup_parser_source\u001b[0;34m()\u001b[0m\n",
      "\u001b[0;31mFileNotFoundError\u001b[0m: [Errno 2] File ./Data-epidemiologisk-rapport-22022021/Municipality_cases_time_series.csv does not exist: './Data-epidemiologisk-rapport-22022021/Municipality_cases_time_series.csv'"
     ]
    }
   ],
   "source": [
    "data_posi = pd.read_csv(\"./Data-epidemiologisk-rapport-22022021/Municipality_cases_time_series.csv\", sep=';', thousands='.', index_col=0)\n",
    "data_test = pd.read_csv(\"./Data-epidemiologisk-rapport-22022021/Municipality_tested_persons_time_series.csv\", sep=';', thousands='.', index_col=0)\n",
    "\n",
    "# All of Denmark\n",
    "Nposi_all = data_posi.loc[\"2020-12-31\":\"2021-02-21\"].sum(axis=1)\n",
    "eNposi_all = np.sqrt(Nposi_all)\n",
    "Ntest_all = data_test.loc[\"2020-12-31\":\"2021-02-21\"].sum(axis=1)\n",
    "eNtest_all = np.sqrt(Ntest_all)\n",
    "day  = np.arange(1,len(Nposi_all)+1)\n",
    "\n",
    "# Number of positive tests and uncertainty, assuming fixed number of daily tests and power law correction:\n",
    "Power = 0 #-0.56 #-0.6         # Power in power law for the increase in positives with increase in tests.\n",
    "#SystError = 0.00075   # To account for larger uncertainties on fraction positives than simply the statistical.\n",
    "SystError = 0.000   # To account for larger uncertainties on fraction positives than simply the statistical.\n",
    "\n",
    "nAveDailyTests_all = Ntest_all.mean()\n",
    "print(\"Average number of PCR tests: \", nAveDailyTests_all)\n",
    "fPos_all = Nposi_all / Ntest_all\n",
    "efPos_all = np.sqrt(fPos_all*(1.0-fPos_all)/Ntest_all + SystError**2)\n",
    "nPos_all  = Nposi_all                                * (Ntest_all / nAveDailyTests_all)**Power\n",
    "enPos_all = np.sqrt(Ntest_all*fPos_all*(1-fPos_all)) * (Ntest_all / nAveDailyTests_all)**Power\n",
    "\n",
    "# Correct for effects of weekdays, corrects from 2nd January forward:\n",
    "frac = [-0.06712774, -0.06683944, -0.05014257, -0.03242197, -0.00406104, 0.12570817,  0.11575076]\n",
    "frac_fra_lørdag = np.roll(frac, -3)\n",
    "\n",
    "for i,x,dx in zip(np.arange(Fit_StartDay,Fit_StartDay+len(nPos_all[Fit_StartDay:Fit_EndDay])),nPos_all[Fit_StartDay:Fit_EndDay], enPos_all[Fit_StartDay:Fit_EndDay]):\n",
    "    nPos_all[i] = x*(1+frac_fra_lørdag[i%7])\n",
    "    enPos_all[i] = dx*(1+frac_fra_lørdag[i%7])\n",
    "    \n",
    "# Print the date used:\n",
    "print(\" Date      Ntest      Npositive      Npos(scaled+corrected)\")\n",
    "for i in range(len(Ntest_all)) :\n",
    "    print(f\"{i+1:4d}   {Ntest_all[i]:10d}  {Nposi_all[i]:8d}       {nPos_all[i]:8.0f}\")"
   ]
  },
  {
   "cell_type": "markdown",
   "metadata": {},
   "source": [
    "## Fit the PCR test data (assuming no B117):"
   ]
  },
  {
   "cell_type": "code",
   "execution_count": null,
   "metadata": {
    "scrolled": false
   },
   "outputs": [],
   "source": [
    "# Exponential function with base Rt:\n",
    "def func_Expo(x, N0, Rt, t0, tG) :\n",
    "    # NOTE: tG = time_generation, i.e. average time between generations.\n",
    "    return N0 * Rt**((x-t0)/tG)\n",
    "\n",
    "# ChiSquare fit model:\n",
    "def chi2_calc(N0, Rt, t0, tG) :\n",
    "    y_fit = func_Expo(day1jan_fit, N0, Rt, t0, tG)\n",
    "    chi2 = np.sum(((nPos_all[Fit_StartDay:Fit_EndDay] - y_fit) / enPos_all[Fit_StartDay:Fit_EndDay])**2)\n",
    "    return chi2\n",
    "\n",
    "minuit = Minuit(chi2_calc, N0=1000.0, Rt=0.9, t0=1.0, fix_t0=True, tG=4.7, fix_tG=True, print_level=1, errordef=1.0)\n",
    "minuit.migrad();                                                  \n",
    "    \n",
    "# Here we extract the fitting parameters and their errors\n",
    "N0_fit = minuit.values['N0'];       sigma_N0_fit = minuit.errors['N0']\n",
    "Rt_fit = minuit.values['Rt'];       sigma_Rt_fit = minuit.errors['Rt']\n",
    "t0_fit = minuit.values['t0'];       sigma_t0_fit = minuit.errors['t0']\n",
    "tG_fit = minuit.values['tG'];       sigma_tG_fit = minuit.errors['tG']\n",
    "print(\"  Rt fit = \", Rt_fit, \"+-\", sigma_Rt_fit)\n",
    "\n",
    "# Calcuate fit quality:\n",
    "Chi2_fit = minuit.fval       # The Chi2 value\n",
    "Nvar = 3                     # Number of variables (tG is fixed!)\n",
    "Ndof_fit = Npoints - Nvar    # Number of degrees of freedom = Number of data points - Number of variables\n",
    "Prob_fit = stats.chi2.sf(Chi2_fit, Ndof_fit)    # The chi2 probability given N degrees of freedom    \n",
    "print(f\"  Prob(Chi2={Chi2_fit:5.1f}, Ndof={Ndof_fit:2d}) = {Prob_fit:5.3f}\")"
   ]
  },
  {
   "cell_type": "markdown",
   "metadata": {},
   "source": [
    "## Fit the PCR test data **including** B117 component:"
   ]
  },
  {
   "cell_type": "code",
   "execution_count": null,
   "metadata": {},
   "outputs": [],
   "source": [
    "PowerB117 = factor_B117    # Value obtained from 30-day fit!\n",
    "\n",
    "# Exponential function with base Rt:\n",
    "def func_DoubleExpo(x, N0, Rt, t0, tG) :\n",
    "    # NOTE: tG = time_generation, i.e. average time between generations.\n",
    "    frac_B117 = func_logistic(x-33, *[frac_t0_fit, tau_fit])       # Offset of 33 days is to match B117 fit t0 scale!\n",
    "    return N0 * ((1.0-frac_B117[0]) * Rt**((x-t0)/tG) + frac_B117[0] * (Rt * PowerB117)**((x-t0)/tG))\n",
    "\n",
    "# ChiSquare fit model:\n",
    "def chi2_calc(N0, Rt, t0, tG) :\n",
    "    y_fit = func_DoubleExpo(day1jan_fit, N0, Rt, t0, tG)\n",
    "    chi2 = np.sum(((nPos_all[Fit_StartDay:Fit_EndDay] - y_fit) / enPos_all[Fit_StartDay:Fit_EndDay])**2)\n",
    "    return chi2\n",
    "\n",
    "minuit2 = Minuit(chi2_calc, N0=400.0, Rt=0.7, t0=1.0, fix_t0=True, tG=4.7, fix_tG=True, print_level=1, errordef=1.0)\n",
    "minuit2.migrad();                                                  \n",
    "    \n",
    "# Here we extract the fitting parameters and their errors\n",
    "N0_fit2 = minuit2.values['N0'];       sigma_N0_fit2 = minuit2.errors['N0']\n",
    "Rt_fit2 = minuit2.values['Rt'];       sigma_Rt_fit2 = minuit2.errors['Rt']\n",
    "t0_fit2 = minuit2.values['t0'];       sigma_t0_fit2 = minuit2.errors['t0']\n",
    "tG_fit2 = minuit2.values['tG'];       sigma_tG_fit2 = minuit2.errors['tG']\n",
    "print(\"  N0 fit = \", N0_fit2, \"+-\", sigma_N0_fit2)\n",
    "print(\"  Rt fit = \", Rt_fit2, \"+-\", sigma_Rt_fit2)\n",
    "print(\"  t0 fit = \", t0_fit2, \"+-\", sigma_t0_fit2)\n",
    "\n",
    "# Calcuate fit quality:\n",
    "Chi2_fit2 = minuit2.fval       # The Chi2 value\n",
    "Nvar = 3                     # Number of variables (tG is fixed!)\n",
    "Ndof_fit2 = Npoints - Nvar    # Number of degrees of freedom = Number of data points - Number of variables\n",
    "Prob_fit2 = stats.chi2.sf(Chi2_fit2, Ndof_fit2)    # The chi2 probability given N degrees of freedom    \n",
    "print(f\"  Prob(Chi2={Chi2_fit2:5.1f}, Ndof={Ndof_fit2:2d}) = {Prob_fit2:5.3f}\")"
   ]
  },
  {
   "cell_type": "code",
   "execution_count": null,
   "metadata": {},
   "outputs": [],
   "source": [
    "# Exponential function with base Rt:\n",
    "def func_DoubleExpoStep(x, N0, Rt, t0, tG, R2) :\n",
    "    # NOTE: tG = time_generation, i.e. average time between generations.\n",
    "    frac_B117 = func_logistic(x-33, *[frac_t0_fit, tau_fit])\n",
    "    if (x < t0) :\n",
    "        Nfit = N0 * ((1.0-frac_B117[0]) * Rt**((x-t0)/tG) + frac_B117 * (Rt * PowerB117)**((x-t0)/tG))\n",
    "    else :\n",
    "        # Continuity condition needs to be included:\n",
    "        Nfit = N0 * ((1.0-frac_B117[0]) * R2**((x-t0)/tG) + frac_B117 * (R2 * PowerB117)**((x-t0)/tG))\n",
    "    return Nfit \n",
    "\n",
    "func_DoubleExpoStep_vect = np.vectorize(func_DoubleExpoStep)\n",
    "\n",
    "\"\"\"\n",
    "# ChiSquare fit model:\n",
    "def chi2_calcStep(N0, Rt, t0, tG, R2) :\n",
    "    y_fit = func_DoubleExpoStep_vect(day1jan_fit, N0, Rt, t0, tG, R2)\n",
    "    chi2 = np.sum(((nPos_all[Fit_StartDay:Fit_EndDay] - y_fit) / enPos_all[Fit_StartDay:Fit_EndDay])**2)\n",
    "    return chi2\n",
    "\n",
    "minuit3 = Minuit(chi2_calcStep, N0=400.0, Rt=0.7, t0=1.0, fix_t0=True, tG=4.7, fix_tG=True, R2=30.0, print_level=1, errordef=1.0)\n",
    "minuit3.migrad();                                                  \n",
    "    \n",
    "# Here we extract the fitting parameters and their errors\n",
    "N0_fit2 = minuit3.values['N0'];       sigma_N0_fit2 = minuit3.errors['N0']\n",
    "Rt_fit2 = minuit3.values['Rt'];       sigma_Rt_fit2 = minuit3.errors['Rt']\n",
    "t0_fit2 = minuit3.values['t0'];       sigma_t0_fit2 = minuit3.errors['t0']\n",
    "tG_fit2 = minuit3.values['tG'];       sigma_tG_fit2 = minuit3.errors['tG']\n",
    "print(\"  N0 fit = \", N0_fit2, \"+-\", sigma_N0_fit2)\n",
    "print(\"  Rt fit = \", Rt_fit2, \"+-\", sigma_Rt_fit2)\n",
    "print(\"  t0 fit = \", t0_fit2, \"+-\", sigma_t0_fit2)\n",
    "\n",
    "# Calcuate fit quality:\n",
    "Chi2_fit2 = minuit3.fval       # The Chi2 value\n",
    "Nvar = 3                     # Number of variables (tG is fixed!)\n",
    "Ndof_fit2 = Npoints - Nvar    # Number of degrees of freedom = Number of data points - Number of variables\n",
    "Prob_fit2 = stats.chi2.sf(Chi2_fit2, Ndof_fit2)    # The chi2 probability given N degrees of freedom    \n",
    "print(f\"  Prob(Chi2={Chi2_fit2:5.1f}, Ndof={Ndof_fit2:2d}) = {Prob_fit2:5.3f}\")\n",
    "\"\"\""
   ]
  },
  {
   "cell_type": "code",
   "execution_count": null,
   "metadata": {},
   "outputs": [],
   "source": [
    "frac_B117 = func_logistic(x-33, *[frac_t0_fit, tau_fit])\n",
    "plt.plot(N0_fit2 * ( Rt_fit2**((day1jan_fit-t0_fit2)/tG_fit2)))\n",
    "plt.plot(N0_fit2 * ((Rt_fit2*PowerB117)**((day1jan_fit-t0_fit2)/tG_fit2)))\n",
    "#plt.plot(N0_fit2 * ((frac_B117) * (Rt_fit2*PowerB117)**((day1jan_fit-t0_fit2)/tG_fit2)) + N0_fit2 * ((1.0-frac_B117) * Rt_fit2**((day1jan_fit-t0_fit2)/tG_fit2)))\n",
    "plt.yscale('log')"
   ]
  },
  {
   "cell_type": "code",
   "execution_count": null,
   "metadata": {},
   "outputs": [],
   "source": [
    "# Put dates on the x-axis:\n",
    "now = dt.datetime.now()         # Changed to the last date of data?\n",
    "then = now + dt.timedelta(days=-(Plot_EndDay-Plot_StartDay))\n",
    "dato_start = \"2021-01-01\"\n",
    "\n",
    "fig, ax = plt.subplots(figsize=(15, 8))\n",
    "ax.set(xlabel=\"\", ylabel=\"Newly infected (corrected) / day\", title=\"\")\n",
    "# ax.set(xlabel=\"\", ylabel=\"Newly infected / day\", title=\"\")\n",
    "# plt.gca().xaxis.set_major_formatter(mdates.DateFormatter('%Y-%m-%d'))\n",
    "# plt.gca().xaxis.set_major_locator(mdates.DayLocator(interval=7))\n",
    "ax.errorbar(day1jan, nPos_all[Plot_StartDay:Plot_EndDay], yerr=enPos_all[Plot_StartDay:Plot_EndDay], fmt='.', linewidth=2, label='PCR Data', color='red')\n",
    "# ax.errorbar(days, nPos_all[Plot_StartDay:Plot_EndDay], yerr=enPos_all[Plot_StartDay:Plot_EndDay], fmt='.', linewidth=2, label='PCR Data', color='red')\n",
    "\n",
    "# Plot the fit model on top of data:\n",
    "#ax.plot(day1jan_fit, func_Expo(day1jan_fit, N0_fit, Rt_fit, t0_fit, tG_fit),       'green', linewidth=1.0, label='Exp. fit (no B117)')\n",
    "ax.plot(day1jan_fit,  func_DoubleExpo(day1jan_fit,  N0_fit2, Rt_fit2, t0_fit2, tG_fit2), 'blue', linewidth=1.0, label='Fit to data')\n",
    "ax.plot(day_extrapol, func_DoubleExpo(day_extrapol-len(day1jan_fit), N0_fit2, Rt_fit2, t0_fit2, tG_fit2), 'blue', linewidth=1.0, label='Extrapolation', linestyle=\"dotted\")\n",
    "\n",
    "\n",
    "# Put nice labels on the original axis:\n",
    "plt.xticks(ticks=np.arange(1,len(nPos_all[dato_start:]),7), labels=np.array(nPos_all[dato_start::7].index), rotation=30)\n",
    "for x in np.arange(1,max(day_extrapol),7): \n",
    "    plt.axvline( x, ls='--', color='grey', alpha=0.2)\n",
    "\n",
    "times = []; N_weeks = int(max(day_extrapol)/7)\n",
    "for i in range(N_weeks):\n",
    "    times.append(then + dt.timedelta(days=7*i))\n",
    "    \n",
    "plt.xticks(ticks=[7*i+1 for i in range(N_weeks)], \n",
    "           labels=[str(time.year)+'-'+str(time.month)+'-'+str(time.day) for time in times] )\n",
    "\n",
    "ax.legend(loc=(0.60, 0.75), fontsize=22)\n",
    "plt.yscale(\"log\")\n",
    "ax.set_yticks([250,500,1000,2000])\n",
    "ax.get_yaxis().set_major_formatter(mpl.ticker.ScalarFormatter())\n",
    "\n",
    "\n",
    "# Plot the fraction of B117 on secondary y-axis (to the right):\n",
    "ax2 = ax.twinx()\n",
    "ax2.plot(day_all, func_logistic(day_all-33, *[frac_t0_fit, tau_fit]), color=\"red\", marker=\"\", alpha=0.2)\n",
    "ax2.set_ylabel(\"Fraction B117\", color=\"red\", fontsize=22)\n",
    "ax2.tick_params(axis='y', colors='red')\n",
    "\n",
    "ax.legend(loc=(0.60, 0.75), fontsize=22)\n",
    "plt.tight_layout()\n",
    "if (save_plots) :\n",
    "    plt.savefig(\"fig_FitOfPCRdata_WithDKandUKversions.pdf\")"
   ]
  },
  {
   "cell_type": "markdown",
   "metadata": {},
   "source": [
    "***\n",
    "\n",
    "# Combination into forecast:\n",
    "\n",
    "The above two fits makes it possible to forecast the development of the two vira:\n",
    "- DK version: PCR-fit * (1-frac(t)), up to t0\n",
    "              PCR-fit * (1-frac(t0), after t0\n",
    "- UK version: PCR-fit * frac(t), up to t0\n",
    "              PCR-fit(R*1.45) * frac(t), after t0"
   ]
  },
  {
   "cell_type": "code",
   "execution_count": null,
   "metadata": {},
   "outputs": [],
   "source": [
    "fig2, ax2 = plt.subplots(figsize=(15, 8))\n",
    "ax2.set(xlabel=\"Days in 2021 (1st of January is day 1)\", ylabel=\"Newly infected / day\", title=\"\")\n",
    "\n",
    "Ndays_offset = 5           # The B.1.1.7 data goes to the 12th, while the PCR goes to the 17th\n",
    "day1jan_frac = np.arange(-len(day1jan_fit) + Ndays_offset, 0)\n",
    "dayNjan_future = np.arange(0,Nfuture)\n",
    "\n",
    "print(day1jan_frac)\n",
    "print(day1jan)\n",
    "print(dayNjan_future)\n",
    "\n",
    "ax2.plot(day1jan_fit,    func_Expo(day1jan_fit,    N0_fit, Rt_fit,      t0_fit, tG_fit) * (1.0 - func_logistic(day1jan_frac, *[frac_t0_fit, tau_fit])),   label='DK - From fit', color=\"blue\")\n",
    "ax2.plot(day1jan_fit,    func_Expo(day1jan_fit,    N0_fit, Rt_fit*1.45, t0_fit, tG_fit) * func_logistic(day1jan_frac, *[frac_t0_fit, tau_fit]),           label='UK - From fit', color=\"red\")\n",
    "#ax2.plot(dayNjan_future, func_Expo(dayNjan_future, N0_fit, Rt_fit,      t0_fit, tG_fit) * (1.0 - func_logistic(dayNjan_future, *[frac_t0_fit, tau_fit])), label='DK - Extrapolation', color=\"blue\", linestyle=\":\")\n",
    "#ax2.plot(dayNjan_future, func_Expo(dayNjan_future, N0_fit, Rt_fit*1.45, t0_fit, tG_fit) * func_logistic(dayNjan_future, *[frac_t0_fit, tau_fit]),         label='UK - Extrapolation', color=\"red\", linestyle=\":\")\n",
    "#ax2.plot(dayNjan_future, fit_exp(np.arange(0,Nfuture), *[frac_t0_fit, tau_fit]), label='DK - Extrapolation', color=\"blue\", linestyle=\":\")\n",
    "\n",
    "\"\"\"\n",
    "# Plot an \"envelope\" of possible predictions:\n",
    "plt.plot(np.arange(0,Nfuture), fit_exp(np.arange(0,Nfuture), *[frac_t0_fit+Nsig*dfrac_t0_fit, tau_fit-Nsig*dtau_fit]), label='LLH', color=\"blue\", linestyle=\":\")\n",
    "plt.plot(np.arange(0,Nfuture), fit_exp(np.arange(0,Nfuture), *[frac_t0_fit-Nsig*dfrac_t0_fit, tau_fit+Nsig*dtau_fit]), label='LLH', color=\"blue\", linestyle=\":\")\n",
    "plt.fill_between(np.arange(0,Nfuture), fit_exp(np.arange(0,Nfuture), *[frac_t0_fit+Nsig*dfrac_t0_fit, tau_fit-Nsig*dtau_fit]), fit_exp(np.arange(0,Nfuture), *[frac_t0_fit-Nsig*dfrac_t0_fit, tau_fit+Nsig*dtau_fit]), color='blue', alpha=0.3)\n",
    "\n",
    "# Show estimate of \"British take-over\":\n",
    "plt.axhline(y=0.5,  xmin=-Ndays, xmax=Nfuture, color='black', linewidth=2.0, linestyle=\"dotted\")\n",
    "plt.axvline(x=34.0, ymin=0.0,    ymax=0.5,     color='black', linewidth=2.0, linestyle=\"dotted\")\n",
    "\n",
    "plt.xlim(-Ndays,Nfuture)\n",
    "plt.ylabel('Fraction of B.1.1.7', fontsize=22)\n",
    "plt.xlabel('Dates relative to '+str(dates[-1].day)+'-'+str(dates[-1].month)+'-'+str(dates[-1].year), fontsize=22 )\n",
    "\"\"\"\n",
    "\n",
    "\n",
    "\n",
    "plt.legend()\n",
    "plt.tight_layout()\n",
    "if (save_plots) :\n",
    "    plt.savefig(\"fig_Extrapolation.pdf\")"
   ]
  },
  {
   "cell_type": "code",
   "execution_count": null,
   "metadata": {},
   "outputs": [],
   "source": []
  }
 ],
 "metadata": {
  "kernelspec": {
   "display_name": "Python 3",
   "language": "python",
   "name": "python3"
  },
  "language_info": {
   "codemirror_mode": {
    "name": "ipython",
    "version": 3
   },
   "file_extension": ".py",
   "mimetype": "text/x-python",
   "name": "python",
   "nbconvert_exporter": "python",
   "pygments_lexer": "ipython3",
   "version": "3.7.6"
  }
 },
 "nbformat": 4,
 "nbformat_minor": 4
}
